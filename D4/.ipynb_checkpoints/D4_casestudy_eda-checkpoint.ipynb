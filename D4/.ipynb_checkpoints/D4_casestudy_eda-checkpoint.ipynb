{
 "cells": [
  {
   "cell_type": "markdown",
   "metadata": {
    "deletable": false,
    "editable": false,
    "nbgrader": {
     "cell_type": "markdown",
     "checksum": "21c7d6c1325beee29417d7babee9a6ce",
     "grade": false,
     "grade_id": "cell-e8c4ea750c6c23ae",
     "locked": true,
     "schema_version": 3,
     "solution": false
    }
   },
   "source": [
    "# Case Study: Age in American Politics\n",
    "\n",
    "In the last few section workbooks, we've reviewed Python basics, used a little `pandas`, wrangled and cleaned data, and generated a number of basic visualizations. This week, we'll extend this a bit futher, incorporating all that we've learned so far.\n",
    "\n",
    "Your goal is to, without much structure provided, utilize the data provided to answer the following questions: \n",
    "\n",
    "1. Does Congress have an age problem? (aka, is Congress? much older than the population they represent?)\n",
    "2. Is this problem exclusive to one of the two major parties?\n",
    "\n",
    "Think about what your hypotheses are before delving into this analysis!\n",
    "\n",
    "Code has been provided in Parts I and III - **your job is do figure out Part II**! (Part I must be executed - it's code is used in Part II. Part II may look long, but the code is quite repetitive. Part III is *optional* but great for those looking to go deeper.)\n",
    "\n",
    "The data you have to start with are available here: [congress-terms.csv](https://github.com/fivethirtyeight/data/tree/master/congress-age). They were used in [this piece](https://fivethirtyeight.com/features/both-republicans-and-democrats-have-an-age-problem/) at FiveThirtyEight. Note, there is an entry for every member of congress who has served at any point during a particular congress between January 1947 and Februrary 2014. One thing to keep in mind is the fact that elections have occurred since 2014 that are not included in this dataset. Getting up-to-date data will be explored in Part III of this notebook."
   ]
  },
  {
   "cell_type": "markdown",
   "metadata": {
    "deletable": false,
    "editable": false,
    "nbgrader": {
     "cell_type": "markdown",
     "checksum": "ad5b87349927036582eb6a8dcc615078",
     "grade": false,
     "grade_id": "cell-29115187cfb80c8c",
     "locked": true,
     "schema_version": 3,
     "solution": false
    }
   },
   "source": [
    "# Part I: Setup & Data\n",
    "\n",
    "There's not much for you to do beyond read the instructions and run the code provided here (being sure to understand it). Don't worry though - there's plenty to do in Part II (and III)."
   ]
  },
  {
   "cell_type": "code",
   "execution_count": 2,
   "metadata": {
    "deletable": false,
    "editable": false,
    "nbgrader": {
     "cell_type": "code",
     "checksum": "37f4bdfa0d0c6326cf8077e31311bbd4",
     "grade": false,
     "grade_id": "cell-8139030cf684bdb6",
     "locked": true,
     "schema_version": 3,
     "solution": false
    }
   },
   "outputs": [],
   "source": [
    "# import pandas & numpy library\n",
    "import pandas as pd\n",
    "import numpy as np\n",
    "\n",
    "# Import seaborn and apply its plotting styles\n",
    "import seaborn as sns\n",
    "sns.set(font_scale=2, style=\"white\")\n",
    "\n",
    "# import matplotlib\n",
    "import matplotlib as mpl\n",
    "import matplotlib.pyplot as plt\n",
    "import matplotlib.style as style\n",
    "# set plotting size parameter\n",
    "plt.rcParams['figure.figsize'] = (12, 5)\n",
    "\n",
    "# packages helpful for webscraping\n",
    "import requests\n",
    "import bs4\n",
    "from bs4 import BeautifulSoup\n",
    "\n",
    "#improve resolution\n",
    "%config InlineBackend.figure_format ='retina'"
   ]
  },
  {
   "cell_type": "markdown",
   "metadata": {
    "deletable": false,
    "editable": false,
    "nbgrader": {
     "cell_type": "markdown",
     "checksum": "ed6ae086558e5caee2f558ae06764af6",
     "grade": false,
     "grade_id": "cell-113de71ef0320926",
     "locked": true,
     "schema_version": 3,
     "solution": false
    }
   },
   "source": [
    "## Congress Data"
   ]
  },
  {
   "cell_type": "markdown",
   "metadata": {
    "deletable": false,
    "editable": false,
    "nbgrader": {
     "cell_type": "markdown",
     "checksum": "4f3845f902f3ab5c4a47cc480f747a37",
     "grade": false,
     "grade_id": "cell-4e73b6727f3f3ecd",
     "locked": true,
     "schema_version": 3,
     "solution": false
    }
   },
   "source": [
    "For the Congress data, we have a CSV file ready and waiting for us to use, which is great. Read the dataset in from the URL by running the code below."
   ]
  },
  {
   "cell_type": "code",
   "execution_count": 3,
   "metadata": {
    "deletable": false,
    "editable": false,
    "nbgrader": {
     "cell_type": "code",
     "checksum": "fef6b6d956dbd195812267db5f59b0c1",
     "grade": false,
     "grade_id": "cell-3442c1c038f06898",
     "locked": true,
     "schema_version": 3,
     "solution": false,
     "task": false
    }
   },
   "outputs": [
    {
     "data": {
      "text/html": [
       "<div>\n",
       "<style scoped>\n",
       "    .dataframe tbody tr th:only-of-type {\n",
       "        vertical-align: middle;\n",
       "    }\n",
       "\n",
       "    .dataframe tbody tr th {\n",
       "        vertical-align: top;\n",
       "    }\n",
       "\n",
       "    .dataframe thead th {\n",
       "        text-align: right;\n",
       "    }\n",
       "</style>\n",
       "<table border=\"1\" class=\"dataframe\">\n",
       "  <thead>\n",
       "    <tr style=\"text-align: right;\">\n",
       "      <th></th>\n",
       "      <th>congress</th>\n",
       "      <th>chamber</th>\n",
       "      <th>bioguide</th>\n",
       "      <th>firstname</th>\n",
       "      <th>middlename</th>\n",
       "      <th>lastname</th>\n",
       "      <th>suffix</th>\n",
       "      <th>birthday</th>\n",
       "      <th>state</th>\n",
       "      <th>party</th>\n",
       "      <th>incumbent</th>\n",
       "      <th>termstart</th>\n",
       "      <th>age</th>\n",
       "    </tr>\n",
       "  </thead>\n",
       "  <tbody>\n",
       "    <tr>\n",
       "      <th>0</th>\n",
       "      <td>80</td>\n",
       "      <td>house</td>\n",
       "      <td>M000112</td>\n",
       "      <td>Joseph</td>\n",
       "      <td>Jefferson</td>\n",
       "      <td>Mansfield</td>\n",
       "      <td>NaN</td>\n",
       "      <td>1861-02-09</td>\n",
       "      <td>TX</td>\n",
       "      <td>D</td>\n",
       "      <td>Yes</td>\n",
       "      <td>1947-01-03</td>\n",
       "      <td>85.9</td>\n",
       "    </tr>\n",
       "    <tr>\n",
       "      <th>1</th>\n",
       "      <td>80</td>\n",
       "      <td>house</td>\n",
       "      <td>D000448</td>\n",
       "      <td>Robert</td>\n",
       "      <td>Lee</td>\n",
       "      <td>Doughton</td>\n",
       "      <td>NaN</td>\n",
       "      <td>1863-11-07</td>\n",
       "      <td>NC</td>\n",
       "      <td>D</td>\n",
       "      <td>Yes</td>\n",
       "      <td>1947-01-03</td>\n",
       "      <td>83.2</td>\n",
       "    </tr>\n",
       "    <tr>\n",
       "      <th>2</th>\n",
       "      <td>80</td>\n",
       "      <td>house</td>\n",
       "      <td>S000001</td>\n",
       "      <td>Adolph</td>\n",
       "      <td>Joachim</td>\n",
       "      <td>Sabath</td>\n",
       "      <td>NaN</td>\n",
       "      <td>1866-04-04</td>\n",
       "      <td>IL</td>\n",
       "      <td>D</td>\n",
       "      <td>Yes</td>\n",
       "      <td>1947-01-03</td>\n",
       "      <td>80.7</td>\n",
       "    </tr>\n",
       "    <tr>\n",
       "      <th>3</th>\n",
       "      <td>80</td>\n",
       "      <td>house</td>\n",
       "      <td>E000023</td>\n",
       "      <td>Charles</td>\n",
       "      <td>Aubrey</td>\n",
       "      <td>Eaton</td>\n",
       "      <td>NaN</td>\n",
       "      <td>1868-03-29</td>\n",
       "      <td>NJ</td>\n",
       "      <td>R</td>\n",
       "      <td>Yes</td>\n",
       "      <td>1947-01-03</td>\n",
       "      <td>78.8</td>\n",
       "    </tr>\n",
       "    <tr>\n",
       "      <th>4</th>\n",
       "      <td>80</td>\n",
       "      <td>house</td>\n",
       "      <td>L000296</td>\n",
       "      <td>William</td>\n",
       "      <td>NaN</td>\n",
       "      <td>Lewis</td>\n",
       "      <td>NaN</td>\n",
       "      <td>1868-09-22</td>\n",
       "      <td>KY</td>\n",
       "      <td>R</td>\n",
       "      <td>No</td>\n",
       "      <td>1947-01-03</td>\n",
       "      <td>78.3</td>\n",
       "    </tr>\n",
       "  </tbody>\n",
       "</table>\n",
       "</div>"
      ],
      "text/plain": [
       "   congress chamber bioguide firstname middlename   lastname suffix  \\\n",
       "0        80   house  M000112    Joseph  Jefferson  Mansfield    NaN   \n",
       "1        80   house  D000448    Robert        Lee   Doughton    NaN   \n",
       "2        80   house  S000001    Adolph    Joachim     Sabath    NaN   \n",
       "3        80   house  E000023   Charles     Aubrey      Eaton    NaN   \n",
       "4        80   house  L000296   William        NaN      Lewis    NaN   \n",
       "\n",
       "     birthday state party incumbent   termstart   age  \n",
       "0  1861-02-09    TX     D       Yes  1947-01-03  85.9  \n",
       "1  1863-11-07    NC     D       Yes  1947-01-03  83.2  \n",
       "2  1866-04-04    IL     D       Yes  1947-01-03  80.7  \n",
       "3  1868-03-29    NJ     R       Yes  1947-01-03  78.8  \n",
       "4  1868-09-22    KY     R        No  1947-01-03  78.3  "
      ]
     },
     "execution_count": 3,
     "metadata": {},
     "output_type": "execute_result"
    }
   ],
   "source": [
    "# Get CSV directly from URL for Congress\n",
    "politics = pd.read_csv('https://raw.githubusercontent.com/fivethirtyeight/data/master/congress-age/congress-terms.csv')\n",
    "politics.head()"
   ]
  },
  {
   "cell_type": "code",
   "execution_count": 4,
   "metadata": {
    "deletable": false,
    "editable": false,
    "nbgrader": {
     "cell_type": "code",
     "checksum": "ef1b5e891917a9e97dbd09ec04fdbeed",
     "grade": true,
     "grade_id": "cell-db6582108357f151",
     "locked": true,
     "points": 0.25,
     "schema_version": 3,
     "solution": false,
     "task": false
    }
   },
   "outputs": [],
   "source": [
    "# ensure data are read in\n",
    "assert politics.shape == (18635, 13)"
   ]
  },
  {
   "cell_type": "markdown",
   "metadata": {
    "deletable": false,
    "editable": false,
    "nbgrader": {
     "cell_type": "markdown",
     "checksum": "bede5536b7326b0cee5206850a8495d0",
     "grade": false,
     "grade_id": "cell-f4dfdea844b5922f",
     "locked": true,
     "schema_version": 3,
     "solution": false
    }
   },
   "source": [
    "## US Age Data"
   ]
  },
  {
   "cell_type": "markdown",
   "metadata": {
    "deletable": false,
    "editable": false,
    "nbgrader": {
     "cell_type": "markdown",
     "checksum": "42c2c1df25567f4d37af3cd5f376dad5",
     "grade": false,
     "grade_id": "cell-9a8285f54e37feb3",
     "locked": true,
     "schema_version": 3,
     "solution": false
    }
   },
   "source": [
    "Data about the mean/median age across US history is unreasonably difficult to find. We're resorting to web scraping here, which, as discussed in lecture can be a huge pain. Take a look at the code here and how specific it is tailored to *this* page and *these* data. If we wanted to scrape different information, even if it were still on Wikipedia, we'd have to alter this code a bunch. So, when possible, use available data...and leave web scraping for when you can't find the data elsewhere!"
   ]
  },
  {
   "cell_type": "code",
   "execution_count": 5,
   "metadata": {},
   "outputs": [],
   "source": [
    "# specify webpage we want to scrape \n",
    "wiki = 'https://web.archive.org/web/20210204194357/https://en.wikipedia.org/wiki/Demographics_of_the_United_States'\n",
    "req = requests.get(wiki)\n",
    "soup = BeautifulSoup(req.content, 'html') # get contents of web page"
   ]
  },
  {
   "cell_type": "code",
   "execution_count": 6,
   "metadata": {},
   "outputs": [],
   "source": [
    "wikitables = soup.findAll(\"table\", 'wikitable') # get tables\n",
    "# extract the tables we want\n",
    "tbl1 = wikitables[8] \n",
    "tbl2 = wikitables[9]"
   ]
  },
  {
   "cell_type": "code",
   "execution_count": 7,
   "metadata": {},
   "outputs": [],
   "source": [
    "# create some empty dataframes\n",
    "# note the tables aren't the same size. ugh.\n",
    "new_tbl1 = pd.DataFrame(columns=range(0,10), index = range(0,3)) # I know the size \n",
    "new_tbl2 = pd.DataFrame(columns=range(0,13), index = range(0,3))"
   ]
  },
  {
   "cell_type": "code",
   "execution_count": 8,
   "metadata": {},
   "outputs": [],
   "source": [
    "# get the column names for our first table\n",
    "ind=0\n",
    "cols_list = []\n",
    "for header in tbl1.find_all('tr'): # specify HTML tags\n",
    "    header_name = header.find_all('th') # tag containing column names\n",
    "    for head in header_name:\n",
    "        cols_list.append(head.get_text()) # get the text from between the tags\n",
    "new_tbl1.columns = [s.replace('\\n','') for s in cols_list] # get rid of new line characters in column names"
   ]
  },
  {
   "cell_type": "code",
   "execution_count": 9,
   "metadata": {},
   "outputs": [],
   "source": [
    "# fill in the contents for our first table\n",
    "row_marker = -1\n",
    "for row in tbl1.find_all('tr'):\n",
    "    column_marker = 0\n",
    "    columns = row.find_all('td') # different tag than above for table contents\n",
    "    for column in columns:\n",
    "        new_tbl1.iat[row_marker,column_marker] = column.get_text()\n",
    "        column_marker += 1\n",
    "    row_marker += 1"
   ]
  },
  {
   "cell_type": "code",
   "execution_count": 10,
   "metadata": {},
   "outputs": [],
   "source": [
    "# get the column names for the second table\n",
    "ind = 0\n",
    "cols_list = []\n",
    "for header in tbl2.find_all('tr'):\n",
    "    header_name = header.find_all('th')\n",
    "    for head in header_name:\n",
    "        cols_list.append(head.get_text())\n",
    "new_tbl2.columns = [s.replace('\\n','') for s in cols_list] "
   ]
  },
  {
   "cell_type": "code",
   "execution_count": 11,
   "metadata": {},
   "outputs": [],
   "source": [
    "# fill in contents for second table\n",
    "row_marker = -1\n",
    "for row in tbl2.find_all('tr'):\n",
    "    column_marker = 0\n",
    "    columns = row.find_all('td')\n",
    "    for column in columns:\n",
    "        new_tbl2.iat[row_marker,column_marker] = column.get_text()\n",
    "        column_marker += 1\n",
    "    row_marker += 1"
   ]
  },
  {
   "cell_type": "code",
   "execution_count": 12,
   "metadata": {},
   "outputs": [],
   "source": [
    "# of course there are new line characters to get rid of \n",
    "new_tbl2 = new_tbl2.replace(r'[\\\\n,\\n]',' ', regex=True) \n",
    "new_tbl1 = new_tbl1.replace(r'[\\\\n,\\n]',' ', regex=True) "
   ]
  },
  {
   "cell_type": "code",
   "execution_count": 13,
   "metadata": {},
   "outputs": [],
   "source": [
    "# set Years as index\n",
    "new_tbl1.set_index(['Years'], inplace=True)\n",
    "new_tbl2.set_index(['Years'], inplace=True)"
   ]
  },
  {
   "cell_type": "code",
   "execution_count": 14,
   "metadata": {},
   "outputs": [
    {
     "data": {
      "text/html": [
       "<div>\n",
       "<style scoped>\n",
       "    .dataframe tbody tr th:only-of-type {\n",
       "        vertical-align: middle;\n",
       "    }\n",
       "\n",
       "    .dataframe tbody tr th {\n",
       "        vertical-align: top;\n",
       "    }\n",
       "\n",
       "    .dataframe thead th {\n",
       "        text-align: right;\n",
       "    }\n",
       "</style>\n",
       "<table border=\"1\" class=\"dataframe\">\n",
       "  <thead>\n",
       "    <tr style=\"text-align: right;\">\n",
       "      <th></th>\n",
       "      <th>year</th>\n",
       "      <th>age</th>\n",
       "      <th>median_males</th>\n",
       "      <th>median_females</th>\n",
       "    </tr>\n",
       "  </thead>\n",
       "  <tbody>\n",
       "    <tr>\n",
       "      <th>0</th>\n",
       "      <td>1820</td>\n",
       "      <td>16.7</td>\n",
       "      <td>16.6</td>\n",
       "      <td>16.8</td>\n",
       "    </tr>\n",
       "    <tr>\n",
       "      <th>1</th>\n",
       "      <td>1830</td>\n",
       "      <td>17.2</td>\n",
       "      <td>17.2</td>\n",
       "      <td>17.3</td>\n",
       "    </tr>\n",
       "    <tr>\n",
       "      <th>2</th>\n",
       "      <td>1840</td>\n",
       "      <td>17.8</td>\n",
       "      <td>17.9</td>\n",
       "      <td>17.8</td>\n",
       "    </tr>\n",
       "    <tr>\n",
       "      <th>3</th>\n",
       "      <td>1850</td>\n",
       "      <td>18.9</td>\n",
       "      <td>19.2</td>\n",
       "      <td>18.6</td>\n",
       "    </tr>\n",
       "    <tr>\n",
       "      <th>4</th>\n",
       "      <td>1860</td>\n",
       "      <td>19.4</td>\n",
       "      <td>19.8</td>\n",
       "      <td>19.1</td>\n",
       "    </tr>\n",
       "  </tbody>\n",
       "</table>\n",
       "</div>"
      ],
      "text/plain": [
       "   year   age  median_males  median_females\n",
       "0  1820  16.7          16.6            16.8\n",
       "1  1830  17.2          17.2            17.3\n",
       "2  1840  17.8          17.9            17.8\n",
       "3  1850  18.9          19.2            18.6\n",
       "4  1860  19.4          19.8            19.1"
      ]
     },
     "execution_count": 14,
     "metadata": {},
     "output_type": "execute_result"
    }
   ],
   "source": [
    "# get it into tidy data format\n",
    "age = new_tbl1.join(new_tbl2) # join two tables into one by index\n",
    "age = age.transpose() # flip it so observations in rows\n",
    "age = age.reset_index() # add year back in as a column\n",
    "age.columns = ['year', 'age', 'median_males', 'median_females'] # rename columns\n",
    "age = age.apply(pd.to_numeric, errors='coerce') # fix type of information stored\n",
    "age.head() # flipping finally"
   ]
  },
  {
   "cell_type": "code",
   "execution_count": 15,
   "metadata": {
    "deletable": false,
    "editable": false,
    "nbgrader": {
     "cell_type": "code",
     "checksum": "407b4fe86b9079a2b2f232f80011ee82",
     "grade": true,
     "grade_id": "cell-7ab3f9bf796c55bf",
     "locked": true,
     "points": 0.25,
     "schema_version": 3,
     "solution": false,
     "task": false
    }
   },
   "outputs": [],
   "source": [
    "# tests to ensure you ran the code in part 1 before moving on to part II\n",
    "assert age.shape == (21, 4)"
   ]
  },
  {
   "cell_type": "markdown",
   "metadata": {
    "deletable": false,
    "editable": false,
    "nbgrader": {
     "cell_type": "markdown",
     "checksum": "2dc40cbb084c90acce5a3b7c4c638e4b",
     "grade": false,
     "grade_id": "cell-3aafd681edf9a4d0",
     "locked": true,
     "schema_version": 3,
     "solution": false
    }
   },
   "source": [
    "# Part II: Descriptive & Exploratory Analyses\n",
    "\n",
    "Once you understand your the data above and have a sense of what information is available, you'll want to:\n",
    "- **understand** (describe) what's going on in the data\n",
    "    - how many observations?\n",
    "    - what variables do you have? what variable types are here\n",
    "    - which will you need to answer the question?\n",
    "- Carry out **EDA**\n",
    "    - understand the relationships and trends for the variables in your dataset\n",
    "    - generate exploratory visualizations\n",
    "    - answer the exploratory questions we posed in lecture"
   ]
  },
  {
   "cell_type": "markdown",
   "metadata": {
    "deletable": false,
    "editable": false,
    "nbgrader": {
     "cell_type": "markdown",
     "checksum": "309ee280667e96214e1dbf5fe48fea5f",
     "grade": false,
     "grade_id": "cell-24cc434955b90df0",
     "locked": true,
     "schema_version": 3,
     "solution": false
    }
   },
   "source": [
    "## Descriptive Analysis\n",
    "\n",
    "Here is where we want to understand our two datasets and the information stored within them. *Feel free to add additional cells as needed*, but some comments are provided to guide your descriptive analysis."
   ]
  },
  {
   "cell_type": "markdown",
   "metadata": {
    "deletable": false,
    "editable": false,
    "nbgrader": {
     "cell_type": "markdown",
     "checksum": "bf1372110984438a65d581bb08d77400",
     "grade": false,
     "grade_id": "cell-f34d58ff300545ec",
     "locked": true,
     "schema_version": 3,
     "solution": false
    }
   },
   "source": [
    "### Congress Data\n",
    "\n",
    "First, we'll get a sense of what information we have in the `politics` dataset."
   ]
  },
  {
   "cell_type": "markdown",
   "metadata": {
    "deletable": false,
    "editable": false,
    "nbgrader": {
     "cell_type": "markdown",
     "checksum": "2abdbb3d7efcf2e706e78e7f57fb7404",
     "grade": false,
     "grade_id": "cell-08c1fef9300fbb67",
     "locked": true,
     "schema_version": 3,
     "solution": false,
     "task": false
    }
   },
   "source": [
    "First, determine the number of rows and columns in the `politics` data, storing this value in `pol_size`."
   ]
  },
  {
   "cell_type": "code",
   "execution_count": 18,
   "metadata": {
    "deletable": false,
    "nbgrader": {
     "cell_type": "code",
     "checksum": "617d279d5b33d18037888c2e4dd1774d",
     "grade": false,
     "grade_id": "cell-662360d85a986da5",
     "locked": false,
     "schema_version": 3,
     "solution": true
    }
   },
   "outputs": [],
   "source": [
    "pol_size = politics.shape"
   ]
  },
  {
   "cell_type": "code",
   "execution_count": 19,
   "metadata": {
    "deletable": false,
    "editable": false,
    "nbgrader": {
     "cell_type": "code",
     "checksum": "fb90ca5015a487b6eda96a9e79a2d98e",
     "grade": true,
     "grade_id": "cell-b74685bb24b64e98",
     "locked": true,
     "points": 0.25,
     "schema_version": 3,
     "solution": false,
     "task": false
    }
   },
   "outputs": [],
   "source": [
    "assert pol_size == (18635, 13)"
   ]
  },
  {
   "cell_type": "markdown",
   "metadata": {
    "deletable": false,
    "editable": false,
    "nbgrader": {
     "cell_type": "markdown",
     "checksum": "7b8398fb2f009bb4cec0089022f80572",
     "grade": false,
     "grade_id": "cell-2c1716caf35dd1fd",
     "locked": true,
     "schema_version": 3,
     "solution": false,
     "task": false
    }
   },
   "source": [
    "Display and think about the values for the descriptive statistics for all quantitative variables in `politics`"
   ]
  },
  {
   "cell_type": "code",
   "execution_count": 20,
   "metadata": {
    "deletable": false,
    "nbgrader": {
     "cell_type": "code",
     "checksum": "fb2fe698fbf6d8e666d031acf446f984",
     "grade": false,
     "grade_id": "cell-e706a0132b419486",
     "locked": false,
     "schema_version": 3,
     "solution": true
    }
   },
   "outputs": [
    {
     "data": {
      "text/html": [
       "<div>\n",
       "<style scoped>\n",
       "    .dataframe tbody tr th:only-of-type {\n",
       "        vertical-align: middle;\n",
       "    }\n",
       "\n",
       "    .dataframe tbody tr th {\n",
       "        vertical-align: top;\n",
       "    }\n",
       "\n",
       "    .dataframe thead th {\n",
       "        text-align: right;\n",
       "    }\n",
       "</style>\n",
       "<table border=\"1\" class=\"dataframe\">\n",
       "  <thead>\n",
       "    <tr style=\"text-align: right;\">\n",
       "      <th></th>\n",
       "      <th>congress</th>\n",
       "      <th>age</th>\n",
       "    </tr>\n",
       "  </thead>\n",
       "  <tbody>\n",
       "    <tr>\n",
       "      <th>count</th>\n",
       "      <td>18635.000000</td>\n",
       "      <td>18635.000000</td>\n",
       "    </tr>\n",
       "    <tr>\n",
       "      <th>mean</th>\n",
       "      <td>96.445989</td>\n",
       "      <td>53.313732</td>\n",
       "    </tr>\n",
       "    <tr>\n",
       "      <th>std</th>\n",
       "      <td>9.823429</td>\n",
       "      <td>10.678469</td>\n",
       "    </tr>\n",
       "    <tr>\n",
       "      <th>min</th>\n",
       "      <td>80.000000</td>\n",
       "      <td>25.000000</td>\n",
       "    </tr>\n",
       "    <tr>\n",
       "      <th>25%</th>\n",
       "      <td>88.000000</td>\n",
       "      <td>45.400000</td>\n",
       "    </tr>\n",
       "    <tr>\n",
       "      <th>50%</th>\n",
       "      <td>96.000000</td>\n",
       "      <td>53.000000</td>\n",
       "    </tr>\n",
       "    <tr>\n",
       "      <th>75%</th>\n",
       "      <td>105.000000</td>\n",
       "      <td>60.550000</td>\n",
       "    </tr>\n",
       "    <tr>\n",
       "      <th>max</th>\n",
       "      <td>113.000000</td>\n",
       "      <td>98.100000</td>\n",
       "    </tr>\n",
       "  </tbody>\n",
       "</table>\n",
       "</div>"
      ],
      "text/plain": [
       "           congress           age\n",
       "count  18635.000000  18635.000000\n",
       "mean      96.445989     53.313732\n",
       "std        9.823429     10.678469\n",
       "min       80.000000     25.000000\n",
       "25%       88.000000     45.400000\n",
       "50%       96.000000     53.000000\n",
       "75%      105.000000     60.550000\n",
       "max      113.000000     98.100000"
      ]
     },
     "execution_count": 20,
     "metadata": {},
     "output_type": "execute_result"
    }
   ],
   "source": [
    "politics.describe()"
   ]
  },
  {
   "cell_type": "markdown",
   "metadata": {},
   "source": [
    "Now, take a look at how party breaks down - in other words, calculate how many individuals are in each party in the `politics` dataset. Store this in `party_counts`."
   ]
  },
  {
   "cell_type": "code",
   "execution_count": 23,
   "metadata": {
    "deletable": false,
    "nbgrader": {
     "cell_type": "code",
     "checksum": "2af8f8e4cfa8c003e2a3ebec18f29e96",
     "grade": false,
     "grade_id": "cell-77bb69212f7e37c7",
     "locked": false,
     "schema_version": 3,
     "solution": true
    }
   },
   "outputs": [],
   "source": [
    "party_counts = politics['party'].value_counts()"
   ]
  },
  {
   "cell_type": "code",
   "execution_count": 24,
   "metadata": {
    "deletable": false,
    "editable": false,
    "nbgrader": {
     "cell_type": "code",
     "checksum": "12cafab6d3a63df65875808c64261e9d",
     "grade": true,
     "grade_id": "cell-2191c3bce1eff2bf",
     "locked": true,
     "points": 0.25,
     "schema_version": 3,
     "solution": false,
     "task": false
    }
   },
   "outputs": [],
   "source": [
    "assert party_counts[0] == 10290\n",
    "assert party_counts[-1] == 1"
   ]
  },
  {
   "cell_type": "markdown",
   "metadata": {},
   "source": [
    "Do the same for chamber (calculate how many members in the dataset are in the house and how many are in the senate)."
   ]
  },
  {
   "cell_type": "code",
   "execution_count": 25,
   "metadata": {
    "deletable": false,
    "nbgrader": {
     "cell_type": "code",
     "checksum": "d207823cac99b8f985ac91e23bd8a49c",
     "grade": false,
     "grade_id": "cell-e6053865b600a0ad",
     "locked": false,
     "schema_version": 3,
     "solution": true
    }
   },
   "outputs": [],
   "source": [
    "chamber_counts = politics['chamber'].value_counts()"
   ]
  },
  {
   "cell_type": "markdown",
   "metadata": {},
   "source": [
    "Finally, calculate how many individuals in each of the chambers are in each of the parties, looking at and understanding the output."
   ]
  },
  {
   "cell_type": "code",
   "execution_count": 27,
   "metadata": {
    "deletable": false,
    "nbgrader": {
     "cell_type": "code",
     "checksum": "4b82521761c4b805286a950048629dfa",
     "grade": false,
     "grade_id": "cell-fbb452209c9dd28e",
     "locked": false,
     "schema_version": 3,
     "solution": true
    }
   },
   "outputs": [],
   "source": [
    "party_by_chamber = politics.groupby(['chamber', 'party']).size().unstack(fill_value=0)"
   ]
  },
  {
   "cell_type": "markdown",
   "metadata": {
    "deletable": false,
    "editable": false,
    "nbgrader": {
     "cell_type": "markdown",
     "checksum": "af58a9fb2ad03f0b59e729f4ea174b93",
     "grade": false,
     "grade_id": "cell-4bc5d68750deecc1",
     "locked": true,
     "schema_version": 3,
     "solution": false
    }
   },
   "source": [
    "Within party, there have been more Democrats in both the house _and_ the senate relative to Rebublicans during this time period. Good to know!"
   ]
  },
  {
   "cell_type": "markdown",
   "metadata": {
    "deletable": false,
    "editable": false,
    "nbgrader": {
     "cell_type": "markdown",
     "checksum": "d5e7b71083c1e0b0ec0d2b55c659cbaf",
     "grade": false,
     "grade_id": "cell-d3fe64b878d549e2",
     "locked": true,
     "schema_version": 3,
     "solution": false
    }
   },
   "source": [
    "### US Age Data\n",
    "\n",
    "Let's look at the median age across the data we've web scraped."
   ]
  },
  {
   "cell_type": "code",
   "execution_count": null,
   "metadata": {
    "deletable": false,
    "nbgrader": {
     "cell_type": "code",
     "checksum": "a049aedc241f98aeb95c342fe1ee689e",
     "grade": false,
     "grade_id": "cell-5cc27c6a1d0209b0",
     "locked": false,
     "schema_version": 3,
     "solution": true
    }
   },
   "outputs": [],
   "source": [
    "# shape of the data\n",
    "# YOUR CODE HERE\n",
    "raise NotImplementedError()"
   ]
  },
  {
   "cell_type": "code",
   "execution_count": null,
   "metadata": {
    "deletable": false,
    "nbgrader": {
     "cell_type": "code",
     "checksum": "ede7f13b0e936ec1893417cbf3e12b24",
     "grade": false,
     "grade_id": "cell-cd9e02786ff6ad52",
     "locked": false,
     "schema_version": 3,
     "solution": true
    }
   },
   "outputs": [],
   "source": [
    "# get descriptive statistics for quantitative variables\n",
    "# YOUR CODE HERE\n",
    "raise NotImplementedError()"
   ]
  },
  {
   "cell_type": "markdown",
   "metadata": {
    "deletable": false,
    "editable": false,
    "nbgrader": {
     "cell_type": "markdown",
     "checksum": "977c37740486df8f9405a187ddb63991",
     "grade": false,
     "grade_id": "cell-1730fb5e82dd3080",
     "locked": true,
     "schema_version": 3,
     "solution": false
    }
   },
   "source": [
    "So, we have data from 21 different years. Across these years, the median age in the US was 25.3, with the mean (average) age being higher for females than males."
   ]
  },
  {
   "cell_type": "markdown",
   "metadata": {
    "deletable": false,
    "editable": false,
    "nbgrader": {
     "cell_type": "markdown",
     "checksum": "37f2439c4cfca73338fa061ed5afb525",
     "grade": false,
     "grade_id": "cell-40168b724d17fa09",
     "locked": true,
     "schema_version": 3,
     "solution": false
    }
   },
   "source": [
    "But that first table included many years that we don't have Congressional data for...so what if we just got 1950 to now. **Get the subset of the `age` dataset where the years overlap with what we have in the `politics` dataset.** \n",
    "\n",
    "Store this in the variable `age_sub`."
   ]
  },
  {
   "cell_type": "code",
   "execution_count": null,
   "metadata": {
    "deletable": false,
    "nbgrader": {
     "cell_type": "code",
     "checksum": "b21051d5edb228922d0e628199223888",
     "grade": false,
     "grade_id": "cell-235a1a90a00fdbca",
     "locked": false,
     "schema_version": 3,
     "solution": true
    }
   },
   "outputs": [],
   "source": [
    "# YOUR CODE HERE\n",
    "raise NotImplementedError()"
   ]
  },
  {
   "cell_type": "code",
   "execution_count": null,
   "metadata": {
    "deletable": false,
    "editable": false,
    "nbgrader": {
     "cell_type": "code",
     "checksum": "dbd5dba7123581f6b3dc1f8cd50d7904",
     "grade": true,
     "grade_id": "cell-69234a3d249e669e",
     "locked": true,
     "points": 0.25,
     "schema_version": 3,
     "solution": false
    }
   },
   "outputs": [],
   "source": [
    "assert(len(age_sub['year'].unique()) == 8)"
   ]
  },
  {
   "cell_type": "markdown",
   "metadata": {
    "deletable": false,
    "editable": false,
    "nbgrader": {
     "cell_type": "markdown",
     "checksum": "49d0e7c266b1d624155c3ad6b0e1836f",
     "grade": false,
     "grade_id": "cell-f4834837ff0a472a",
     "locked": true,
     "schema_version": 3,
     "solution": false
    }
   },
   "source": [
    "Take a look at the descriptive statistics of this smaller dataset and look back at the original `age` dataset to get a sense for how these values changed."
   ]
  },
  {
   "cell_type": "code",
   "execution_count": null,
   "metadata": {
    "deletable": false,
    "nbgrader": {
     "cell_type": "code",
     "checksum": "f089c08b2853868a030c164e9075504b",
     "grade": false,
     "grade_id": "cell-6b0622dcecfafc99",
     "locked": false,
     "schema_version": 3,
     "solution": true
    }
   },
   "outputs": [],
   "source": [
    "# look at descriptive statistics\n",
    "# YOUR CODE HERE\n",
    "raise NotImplementedError()"
   ]
  },
  {
   "cell_type": "markdown",
   "metadata": {
    "deletable": false,
    "editable": false,
    "nbgrader": {
     "cell_type": "markdown",
     "checksum": "607ebca6cde9280447f8af3fe5ffc64e",
     "grade": false,
     "grade_id": "cell-c5c4e0a2d2350e03",
     "locked": true,
     "schema_version": 3,
     "solution": false
    }
   },
   "source": [
    "At this point you should have a good sense for what information is in your dataset as well as typical values for each of the variables we'll focus on. "
   ]
  },
  {
   "cell_type": "markdown",
   "metadata": {
    "deletable": false,
    "editable": false,
    "nbgrader": {
     "cell_type": "markdown",
     "checksum": "576965fb9a7276acc938d8b4f8de3113",
     "grade": false,
     "grade_id": "cell-65d762807f53d97d",
     "locked": true,
     "schema_version": 3,
     "solution": false
    }
   },
   "source": [
    "## EDA: Exploratory Data Analysis"
   ]
  },
  {
   "cell_type": "markdown",
   "metadata": {
    "deletable": false,
    "editable": false,
    "nbgrader": {
     "cell_type": "markdown",
     "checksum": "bcb758840b0537707927e9a293b7567e",
     "grade": false,
     "grade_id": "cell-7d72ec1ea1dbc4df",
     "locked": true,
     "schema_version": 3,
     "solution": false
    }
   },
   "source": [
    "Since we want to look at a trend of age over time (in this case, across `'congress'`), a line plot is a really great place to start. To visualize the trend, we'll use `sns.lineplot` from the seaborn package and provide that function with the variables we're interested in visualizing over time."
   ]
  },
  {
   "cell_type": "code",
   "execution_count": null,
   "metadata": {
    "deletable": false,
    "nbgrader": {
     "cell_type": "code",
     "checksum": "8a42b3de7aaa4f489281fb1c3889e824",
     "grade": false,
     "grade_id": "cell-f7fadd18a7e7ae1e",
     "locked": false,
     "schema_version": 3,
     "solution": true
    }
   },
   "outputs": [],
   "source": [
    "# YOUR CODE HERE\n",
    "raise NotImplementedError()"
   ]
  },
  {
   "cell_type": "markdown",
   "metadata": {
    "deletable": false,
    "editable": false,
    "nbgrader": {
     "cell_type": "markdown",
     "checksum": "fbb9a37f846e7aa3922dac7c2e273dc0",
     "grade": false,
     "grade_id": "cell-faaf291ac0aa4c94",
     "locked": true,
     "schema_version": 3,
     "solution": false
    }
   },
   "source": [
    "The plot you generated should make it clear that average age in Congress has clearly increased in recent years. But, is this driven by one party over another? Let's break this down by party to see. Additionally, we'd rather the years be on the x-axis, rather than the congress, as we have a better understanding of years. To do this, take a look at the `to_datetime()` function from `pandas` and consider how the `'termstart'` Series in the `politics` dataset can be used to extract the year. Assign the year to a new column `'year'` in the politics dataset."
   ]
  },
  {
   "cell_type": "code",
   "execution_count": null,
   "metadata": {
    "deletable": false,
    "nbgrader": {
     "cell_type": "code",
     "checksum": "5299ee9cb304cc6ac24c98e33cff4b3a",
     "grade": false,
     "grade_id": "cell-ecdb79fbc4504835",
     "locked": false,
     "schema_version": 3,
     "solution": true
    }
   },
   "outputs": [],
   "source": [
    "## get year column in there for x-axis\n",
    "# YOUR CODE HERE\n",
    "raise NotImplementedError()"
   ]
  },
  {
   "cell_type": "code",
   "execution_count": null,
   "metadata": {
    "deletable": false,
    "editable": false,
    "nbgrader": {
     "cell_type": "code",
     "checksum": "ba7382b2abe4f19ae2a98b872525f039",
     "grade": true,
     "grade_id": "cell-86bbfa1565c676cb",
     "locked": true,
     "points": 0.25,
     "schema_version": 3,
     "solution": false
    }
   },
   "outputs": [],
   "source": [
    "assert politics['year'].min() == 1947\n",
    "assert politics['year'].max() == 2013"
   ]
  },
  {
   "cell_type": "markdown",
   "metadata": {
    "deletable": false,
    "editable": false,
    "nbgrader": {
     "cell_type": "markdown",
     "checksum": "adeb9bff06430789e182de5119e7f4d9",
     "grade": false,
     "grade_id": "cell-61e398c1c2633e4a",
     "locked": true,
     "schema_version": 3,
     "solution": false
    }
   },
   "source": [
    "Then, regenerate the lineplot from above, replacing the x-axis originally used (Congress) with the year."
   ]
  },
  {
   "cell_type": "code",
   "execution_count": null,
   "metadata": {
    "deletable": false,
    "nbgrader": {
     "cell_type": "code",
     "checksum": "d869d52d436c4891a1a9fa3b08d9b75b",
     "grade": false,
     "grade_id": "cell-5590c6300428f61e",
     "locked": false,
     "schema_version": 3,
     "solution": true
    }
   },
   "outputs": [],
   "source": [
    "# YOUR CODE HERE\n",
    "raise NotImplementedError()"
   ]
  },
  {
   "cell_type": "markdown",
   "metadata": {
    "deletable": false,
    "editable": false,
    "nbgrader": {
     "cell_type": "markdown",
     "checksum": "54b2cac710618868c058733f5742e174",
     "grade": false,
     "grade_id": "cell-5cd9c436a58f826e",
     "locked": true,
     "schema_version": 3,
     "solution": false
    }
   },
   "source": [
    "Well, what about the same time period for median US population? You can use the `'age'` and `'year'` information from the `age_sub` dataset (as this has the same years as the `politics` dataset).\n",
    "\n",
    "Remeber that we already have group-level data, so we'll just see a single line, as we don't have information about variability for these data:"
   ]
  },
  {
   "cell_type": "code",
   "execution_count": null,
   "metadata": {
    "deletable": false,
    "nbgrader": {
     "cell_type": "code",
     "checksum": "38d1eb0fab9de2d6d56cfada3882e95f",
     "grade": false,
     "grade_id": "cell-039ee5e0eee455d5",
     "locked": false,
     "schema_version": 3,
     "solution": true
    }
   },
   "outputs": [],
   "source": [
    "# age trend of US population over time    \n",
    "# YOUR CODE HERE\n",
    "raise NotImplementedError()"
   ]
  },
  {
   "cell_type": "markdown",
   "metadata": {
    "deletable": false,
    "editable": false,
    "nbgrader": {
     "cell_type": "markdown",
     "checksum": "747602a84fe23b9a23da943c4abcdba9",
     "grade": false,
     "grade_id": "cell-1572158561ec3273",
     "locked": true,
     "schema_version": 3,
     "solution": false
    }
   },
   "source": [
    "So, the data also increase overall but we don't see a dip in the 80's like we do above and the increase is pretty steady - certainly less variability than what we saw in the `politics` dataset. Also, the values are different. Here all the median ages are in the 30s, while the average age of Congress members is in the 50s.\n",
    "\n",
    "This *may* not be the best comparison, due to age limits in Congress. We'd likely want to look at the median age of adults over 25 (for comparison with the House) and over 30 (for comparison with the Senate). You're welcome to go search for those data! For now and the purposes of this workbook, we'll stick with these data!"
   ]
  },
  {
   "cell_type": "markdown",
   "metadata": {
    "deletable": false,
    "editable": false,
    "nbgrader": {
     "cell_type": "markdown",
     "checksum": "9c94261cb5305f9264cce7e696ee05a3",
     "grade": false,
     "grade_id": "cell-e3970b2616a9bee5",
     "locked": true,
     "schema_version": 3,
     "solution": false
    }
   },
   "source": [
    "Having made our initial overall comparison, let's start looking at the breakdowns we were interested in. \n",
    "\n",
    "Does age differ by...\n",
    "- party? \n",
    "- chamber?\n",
    "\n",
    "We'll start by looking at party differences:"
   ]
  },
  {
   "cell_type": "markdown",
   "metadata": {
    "deletable": false,
    "editable": false,
    "nbgrader": {
     "cell_type": "markdown",
     "checksum": "6ab412be29fc5c87dc9761177ed0db04",
     "grade": false,
     "grade_id": "cell-3eb6c9f571cc7190",
     "locked": true,
     "schema_version": 3,
     "solution": false
    }
   },
   "source": [
    "Plot the ages in Congress broken down by party."
   ]
  },
  {
   "cell_type": "code",
   "execution_count": null,
   "metadata": {
    "deletable": false,
    "nbgrader": {
     "cell_type": "code",
     "checksum": "3c2222c5cb3cfc4e04629fb6549bee35",
     "grade": false,
     "grade_id": "cell-1e9e9900329b7bb9",
     "locked": false,
     "schema_version": 3,
     "solution": true
    }
   },
   "outputs": [],
   "source": [
    "# age trend by party \n",
    "# YOUR CODE HERE\n",
    "raise NotImplementedError()"
   ]
  },
  {
   "cell_type": "markdown",
   "metadata": {
    "deletable": false,
    "editable": false,
    "nbgrader": {
     "cell_type": "markdown",
     "checksum": "17092e8866db33763366aaf77fcd2076",
     "grade": false,
     "grade_id": "cell-d06107f2096b4640",
     "locked": true,
     "schema_version": 3,
     "solution": false
    }
   },
   "source": [
    "If you've done this, what you should see here is that while there are individuals in Congress over history from more than the two main parties, these lines represent very few actual individuals (<50 in any given third party...see EDA above). So, for the rest of this analysis, we're just going to focus on the two main parties: Democrats and Repbulicans."
   ]
  },
  {
   "cell_type": "markdown",
   "metadata": {
    "deletable": false,
    "editable": false,
    "nbgrader": {
     "cell_type": "markdown",
     "checksum": "edfe40a7614dcd47dc0f86476aba6932",
     "grade": false,
     "grade_id": "cell-aae311d9e89a85d7",
     "locked": true,
     "schema_version": 3,
     "solution": false
    }
   },
   "source": [
    "## Filter to only include Democrats and Republicans\n",
    "\n",
    "Filter your `politics` dataset to only include those members of Congress that belong to either the Democratic Part ('D') or Republican Party ('R'). Store these data in the variable `dem_rep`"
   ]
  },
  {
   "cell_type": "code",
   "execution_count": null,
   "metadata": {
    "deletable": false,
    "nbgrader": {
     "cell_type": "code",
     "checksum": "28385f1db2d7f8edd78c1525008b5aa7",
     "grade": false,
     "grade_id": "cell-d8bf93abc1825be3",
     "locked": false,
     "schema_version": 3,
     "solution": true,
     "task": false
    }
   },
   "outputs": [],
   "source": [
    "# YOUR CODE HERE\n",
    "raise NotImplementedError()"
   ]
  },
  {
   "cell_type": "code",
   "execution_count": null,
   "metadata": {
    "deletable": false,
    "editable": false,
    "nbgrader": {
     "cell_type": "code",
     "checksum": "69839465abee5898737abbb7b14e649e",
     "grade": true,
     "grade_id": "cell-3fe4640d94d4c4fd",
     "locked": true,
     "points": 0.25,
     "schema_version": 3,
     "solution": false
    }
   },
   "outputs": [],
   "source": [
    "assert dem_rep.shape == (18564, 14)"
   ]
  },
  {
   "cell_type": "markdown",
   "metadata": {
    "deletable": false,
    "editable": false,
    "nbgrader": {
     "cell_type": "markdown",
     "checksum": "ca81fdcf0e46b5564b86dd30d1ad3289",
     "grade": false,
     "grade_id": "cell-023e24057f77b774",
     "locked": true,
     "schema_version": 3,
     "solution": false
    }
   },
   "source": [
    "The following color palette is provided, should you want to use red and blue to represent the Republican and Democratic parties, respectively. Feel free to use it, if it helps!"
   ]
  },
  {
   "cell_type": "code",
   "execution_count": null,
   "metadata": {},
   "outputs": [],
   "source": [
    "## specify a color pallete\n",
    "unique = dem_rep[\"party\"].unique()\n",
    "palette = dict(zip(unique, sns.color_palette([\"#0000CD\",\"#ff0000\"])))"
   ]
  },
  {
   "cell_type": "markdown",
   "metadata": {
    "deletable": false,
    "editable": false,
    "nbgrader": {
     "cell_type": "markdown",
     "checksum": "09529c03a67eefaa3e9213331339d8c6",
     "grade": false,
     "grade_id": "cell-3e1172fdc2d29ade",
     "locked": true,
     "schema_version": 3,
     "solution": false
    }
   },
   "source": [
    "Go ahead and plot the age trend over time broken down by party using hte `dem_rep` dataset! "
   ]
  },
  {
   "cell_type": "code",
   "execution_count": null,
   "metadata": {
    "deletable": false,
    "nbgrader": {
     "cell_type": "code",
     "checksum": "2badc0bcb6f784959445eb79f14dcda8",
     "grade": false,
     "grade_id": "cell-380163f29a5ddea7",
     "locked": false,
     "schema_version": 3,
     "solution": true
    }
   },
   "outputs": [],
   "source": [
    "# age trend by party \n",
    "# YOUR CODE HERE\n",
    "raise NotImplementedError()"
   ]
  },
  {
   "cell_type": "markdown",
   "metadata": {
    "deletable": false,
    "editable": false,
    "nbgrader": {
     "cell_type": "markdown",
     "checksum": "a8dccce39c5f9362f44df725b836d47a",
     "grade": false,
     "grade_id": "cell-98661a2764de2499",
     "locked": true,
     "schema_version": 3,
     "solution": false
    }
   },
   "source": [
    "After filtering to the two main parties, you shoul see that age is increasing in both parties, following the general overall trend. We note, however, that since the mid-1960s, Democrats in Congress have been being older, on average, than Republicans. We note that 1990 appeared to show a slight reversal in this trend, but with a spike in age overall."
   ]
  },
  {
   "cell_type": "markdown",
   "metadata": {
    "deletable": false,
    "editable": false,
    "nbgrader": {
     "cell_type": "markdown",
     "checksum": "28d2fca2755349b73c66b88f6d5e61b7",
     "grade": false,
     "grade_id": "cell-59a4bcc985ec290e",
     "locked": true,
     "schema_version": 3,
     "solution": false
    }
   },
   "source": [
    "## Does this trend differ by chamber?\n",
    "\n",
    "Generate a plot to see if this trend looks the same in both chambers of Congress."
   ]
  },
  {
   "cell_type": "code",
   "execution_count": null,
   "metadata": {
    "deletable": false,
    "nbgrader": {
     "cell_type": "code",
     "checksum": "52d0681b4726a69b0ae20ff1ff21b8dc",
     "grade": false,
     "grade_id": "cell-c6b739d832791662",
     "locked": false,
     "schema_version": 3,
     "solution": true
    }
   },
   "outputs": [],
   "source": [
    "# YOUR CODE HERE\n",
    "raise NotImplementedError()"
   ]
  },
  {
   "cell_type": "markdown",
   "metadata": {
    "deletable": false,
    "editable": false,
    "nbgrader": {
     "cell_type": "markdown",
     "checksum": "c744bf1843faf203532cbb18e76b42a2",
     "grade": false,
     "grade_id": "cell-4a8227a5b66e0e9f",
     "locked": true,
     "schema_version": 3,
     "solution": false
    }
   },
   "source": [
    "When we break this down further by chamber of congress, what you should see is that the separation between Democrats and Republicans is largely driven by age differences in the House. Age in the Senate does not appear to be different between parties (except for in the 1960s). The overall increase in age over recent history, however, is seen in both houses. Note that the age spike in 1990 in the House is not seen in the Senate."
   ]
  },
  {
   "cell_type": "markdown",
   "metadata": {
    "deletable": false,
    "editable": false,
    "nbgrader": {
     "cell_type": "markdown",
     "checksum": "855ad0e33ffcb8d8bdd951fa28b7656a",
     "grade": false,
     "grade_id": "cell-39aba10b54cbbd09",
     "locked": true,
     "schema_version": 3,
     "solution": false
    }
   },
   "source": [
    "## Effect of Incumbents?"
   ]
  },
  {
   "cell_type": "markdown",
   "metadata": {
    "deletable": false,
    "editable": false,
    "nbgrader": {
     "cell_type": "markdown",
     "checksum": "58653b5e4b927a0e3038fc253f085350",
     "grade": false,
     "grade_id": "cell-ead14440c117ccd4",
     "locked": true,
     "schema_version": 3,
     "solution": false
    }
   },
   "source": [
    "We know that people often spend multiple terms in Congress. Here, we look to see if this trend in age and party is driven by incumbents. To determine this, we filter to a dataset that only includes non-incumbents. This dataset should include 2920 individuals (of the original 15K). Filter your data below to only include non-incumbents. Store this in the dataframe `new_members`."
   ]
  },
  {
   "cell_type": "code",
   "execution_count": null,
   "metadata": {
    "deletable": false,
    "nbgrader": {
     "cell_type": "code",
     "checksum": "b6f217e6372d6838459de1e3c1d4cd7d",
     "grade": false,
     "grade_id": "cell-194dbb033ae9d8aa",
     "locked": false,
     "schema_version": 3,
     "solution": true
    }
   },
   "outputs": [],
   "source": [
    "#just include non-incumbents\n",
    "# YOUR CODE HERE\n",
    "raise NotImplementedError()"
   ]
  },
  {
   "cell_type": "code",
   "execution_count": null,
   "metadata": {
    "deletable": false,
    "editable": false,
    "nbgrader": {
     "cell_type": "code",
     "checksum": "a3bfddf677d69b33ca21865096c46398",
     "grade": true,
     "grade_id": "cell-a6b8dbdf5ecdc70e",
     "locked": true,
     "points": 0.25,
     "schema_version": 3,
     "solution": false
    }
   },
   "outputs": [],
   "source": [
    "assert new_members.shape == (2920, 14)"
   ]
  },
  {
   "cell_type": "markdown",
   "metadata": {
    "deletable": false,
    "editable": false,
    "nbgrader": {
     "cell_type": "markdown",
     "checksum": "3134116121f3763b95fe7505d9186151",
     "grade": false,
     "grade_id": "cell-fc4706f3a4aa06b2",
     "locked": true,
     "schema_version": 3,
     "solution": false
    }
   },
   "source": [
    "We've again provided a color pallete for this dataset. Feel free to use if helpful!"
   ]
  },
  {
   "cell_type": "code",
   "execution_count": null,
   "metadata": {},
   "outputs": [],
   "source": [
    "## specify a color pallete\n",
    "unique = new_members[\"party\"].unique()\n",
    "palette = dict(zip(unique, sns.color_palette([\"#0000CD\",\"#ff0000\"])))"
   ]
  },
  {
   "cell_type": "markdown",
   "metadata": {
    "deletable": false,
    "editable": false,
    "nbgrader": {
     "cell_type": "markdown",
     "checksum": "6f967bd98521deaad7da24691f661b09",
     "grade": false,
     "grade_id": "cell-a310e9158efeb4bc",
     "locked": true,
     "schema_version": 3,
     "solution": false
    }
   },
   "source": [
    "Using the `new_members` dataset, plot age for Congress over time."
   ]
  },
  {
   "cell_type": "code",
   "execution_count": null,
   "metadata": {
    "deletable": false,
    "nbgrader": {
     "cell_type": "code",
     "checksum": "4a8ac152b2dbd00db766876e787e7d05",
     "grade": false,
     "grade_id": "cell-cd305a94742bc5fb",
     "locked": false,
     "schema_version": 3,
     "solution": true
    }
   },
   "outputs": [],
   "source": [
    "# YOUR CODE HERE\n",
    "raise NotImplementedError()"
   ]
  },
  {
   "cell_type": "markdown",
   "metadata": {
    "deletable": false,
    "editable": false,
    "nbgrader": {
     "cell_type": "markdown",
     "checksum": "13a4911e29177b38dd656a38389429d2",
     "grade": false,
     "grade_id": "cell-ffb35b6d72cdf7f4",
     "locked": true,
     "schema_version": 3,
     "solution": false
    }
   },
   "source": [
    "Taking a look at this age trend over time. How does it differ from what we saw earlier? Does Congress have an age problem? Incldue your interpretation and answer below:"
   ]
  },
  {
   "cell_type": "markdown",
   "metadata": {
    "deletable": false,
    "nbgrader": {
     "cell_type": "markdown",
     "checksum": "70dd064362e098517398cf9a08eec741",
     "grade": true,
     "grade_id": "cell-cf1b26c9cf348efd",
     "locked": false,
     "points": 0,
     "schema_version": 3,
     "solution": true
    }
   },
   "source": [
    "YOUR ANSWER HERE"
   ]
  },
  {
   "cell_type": "markdown",
   "metadata": {
    "deletable": false,
    "editable": false,
    "nbgrader": {
     "cell_type": "markdown",
     "checksum": "96a66ac92edf21f5002287d6a48559c0",
     "grade": false,
     "grade_id": "cell-3a84d4ce496fe55e",
     "locked": true,
     "schema_version": 3,
     "solution": false
    }
   },
   "source": [
    "# Part III: More data? (*optional*)\n",
    "\n",
    "Once you have a good handle on what's going on in the datasets above, how can you get the data you need to include recent elections? I'll note that in the FiveThirtyEight piece where these data came from, they mention using the NYT's Congress API. However, this has moved to Propublica since publication of that piece: https://projects.propublica.org/api-docs/congress-api/.\n",
    "\n",
    "This will require you to read API documentation and understand it. **You'll need an API Key to run the code below.** \n",
    "\n",
    "Additionally, you will likely need additional packages (see below). \n",
    "\n",
    "Feel free to run the code you see here, change it, and even update it."
   ]
  },
  {
   "cell_type": "code",
   "execution_count": null,
   "metadata": {},
   "outputs": [],
   "source": [
    "# and change the package name if needed\n",
    "# !pip install pandas_ply \n",
    "# if on datahub\n",
    "# !pip install --user pandas_ply \n",
    "# restart kernel after install \n",
    "# be sure to reimport pandas from above\n",
    "from pandas_ply import install_ply, X\n",
    "install_ply(pd)\n",
    "import requests\n",
    "import json"
   ]
  },
  {
   "cell_type": "code",
   "execution_count": null,
   "metadata": {},
   "outputs": [],
   "source": [
    "## add Propublica API Key here\n",
    "key = \"YOUR API KEY HERE\""
   ]
  },
  {
   "cell_type": "code",
   "execution_count": null,
   "metadata": {},
   "outputs": [],
   "source": [
    "## write functions to help get the data we'll need\n",
    "## code modified from https://github.com/eyeseast/propublica-congress\n",
    "def get_data(url):\n",
    "    \"\"\"get the data from Propublica API\"\"\"\n",
    "    response = requests.get(url, headers={\"X-API-KEY\":key})\n",
    "    return response\n",
    "\n",
    "def print_data(data, termstart):\n",
    "    \"\"\"process the API request from Propublica API\"\"\"\n",
    "    r = json.loads(data.content)\n",
    "\n",
    "    congress = r['results'][0]['congress']\n",
    "    chamber = r['results'][0]['chamber']\n",
    "    df = (pd.DataFrame.from_dict(pd.json_normalize(r['results'][0]['members']), \n",
    "                                orient='columns').\n",
    "          ply_select('first_name',\n",
    "                     'middle_name',\n",
    "                     'last_name',\n",
    "                     'suffix',\n",
    "                     'date_of_birth',\n",
    "                     'state',\n",
    "                     'party',\n",
    "                     ).\n",
    "          rename(columns={'date_of_birth':'dob',\n",
    "                          'first_name':'firstname',\n",
    "                          'middle_name':'middlename',\n",
    "                          'last_name': 'lastname'})\n",
    "                   )\n",
    "    df['congress'] = congress.lower()\n",
    "    df['chamber'] = chamber.lower()\n",
    "    df['termstart'] = termstart\n",
    "    df['age'] = pd.to_datetime(df['termstart']).dt.year - pd.to_datetime(df['dob']).dt.year\n",
    "    df['year'] = pd.to_datetime(df['termstart']).dt.year\n",
    "    return df\n",
    "\n",
    "def get_df(termstart, url):\n",
    "    \"\"\"combine functions to get dataframe with the information we want\"\"\"\n",
    "    a = get_data(url)\n",
    "    out = print_data(a, termstart=termstart)\n",
    "    return out"
   ]
  },
  {
   "cell_type": "markdown",
   "metadata": {},
   "source": [
    "Using the functions we just defined, we can get a dataset for each congress since the data included in our dataset, one from the seante and one from the house. We can then merge them together."
   ]
  },
  {
   "cell_type": "code",
   "execution_count": null,
   "metadata": {},
   "outputs": [],
   "source": [
    "## get updated data for years since FiveThirtyEight was collected\n",
    "## note: this code could be programmatically cleaned up (but Professor Ellis was being super lazy)\n",
    "## certainly let Professor Ellis know if you approached this differently and in a more straightforward way\n",
    "\n",
    "#114\n",
    "senate_114 = get_df(termstart = '2015-01-03', url = \"https://api.propublica.org/congress/v1/114/senate/members.json\")\n",
    "house_114 = get_df(termstart = '2015-01-03', url = \"https://api.propublica.org/congress/v1/114/house/members.json\")\n",
    "\n",
    "#115\n",
    "senate_115 = get_df(termstart = '2017-01-03', url = \"https://api.propublica.org/congress/v1/115/senate/members.json\")\n",
    "house_115 = get_df(termstart = '2017-01-03', url = \"https://api.propublica.org/congress/v1/115/house/members.json\")\n",
    "\n",
    "#116\n",
    "senate_116 = get_df(termstart = '2019-01-03', url = \"https://api.propublica.org/congress/v1/116/senate/members.json\")\n",
    "house_116 = get_df(termstart = '2019-01-03', url = \"https://api.propublica.org/congress/v1/116/house/members.json\")\n",
    "\n",
    "#117\n",
    "senate_117 = get_df(termstart = '2021-01-03', url = \"https://api.propublica.org/congress/v1/117/senate/members.json\")\n",
    "house_117 = get_df(termstart = '2021-01-03', url = \"https://api.propublica.org/congress/v1/117/house/members.json\")\n",
    "\n",
    "#118\n",
    "senate_118 = get_df(termstart = '2023-01-03', url = \"https://api.propublica.org/congress/v1/118/senate/members.json\")\n",
    "house_118 = get_df(termstart = '2023-01-03', url = \"https://api.propublica.org/congress/v1/118/house/members.json\")\n",
    "\n",
    "# combine and filter\n",
    "new_data = pd.concat([senate_114, house_114, senate_115, house_115, senate_116, house_116, senate_117, house_117, senate_118, house_118])\n",
    "new_data = new_data[(new_data.party == 'D') | (new_data.party == 'R')]"
   ]
  },
  {
   "cell_type": "code",
   "execution_count": null,
   "metadata": {},
   "outputs": [],
   "source": [
    "df1 = dem_rep[['year', 'chamber', 'age', 'party']]\n",
    "df2 = new_data[['year', 'chamber', 'age', 'party']]\n",
    "\n",
    "politics_updated = pd.concat([df1, df2])\n",
    "politics_updated = politics_updated.reset_index()"
   ]
  },
  {
   "cell_type": "markdown",
   "metadata": {},
   "source": [
    "With our updated data, let's take a look at the data and trend on a similar plot again!"
   ]
  },
  {
   "cell_type": "code",
   "execution_count": null,
   "metadata": {},
   "outputs": [],
   "source": [
    "## most recent trends...\n",
    "politics_updated.groupby(['year', 'party']).agg({'age':'mean'}).tail(8)"
   ]
  },
  {
   "cell_type": "code",
   "execution_count": null,
   "metadata": {},
   "outputs": [],
   "source": [
    "## specify a color pallete\n",
    "unique = politics_updated[\"party\"].unique()\n",
    "palette = dict(zip(unique, sns.color_palette([\"#0000CD\", \"#ff0000\"])))"
   ]
  },
  {
   "cell_type": "code",
   "execution_count": null,
   "metadata": {},
   "outputs": [],
   "source": [
    "sns.lineplot(x = \"year\", \n",
    "             y = \"age\", \n",
    "             hue = \"party\",  \n",
    "             data = politics_updated,\n",
    "             palette = palette);"
   ]
  },
  {
   "cell_type": "markdown",
   "metadata": {},
   "source": [
    "Looks like the age for the Demcrats were on a downward trend but reversed course in the most recent elections and are and have been higher than the Republicans. Will be interesting to see what happens in coming elections!"
   ]
  },
  {
   "cell_type": "code",
   "execution_count": null,
   "metadata": {},
   "outputs": [],
   "source": [
    "sns.relplot(x = \"year\", \n",
    "            y = \"age\", \n",
    "            hue = \"party\",\n",
    "            col = 'chamber',\n",
    "            kind = \"line\",\n",
    "            data = politics_updated, \n",
    "            palette = palette); "
   ]
  },
  {
   "cell_type": "markdown",
   "metadata": {
    "deletable": false,
    "editable": false,
    "nbgrader": {
     "cell_type": "markdown",
     "checksum": "1a092359e79b294f6f06ae91d4621236",
     "grade": false,
     "grade_id": "cell-7109c14ded854c16",
     "locked": true,
     "schema_version": 3,
     "solution": false
    }
   },
   "source": [
    "Finally (after lots of data acquisition and exploration), we see that this downward trend is still driven by age in the House for Democrats but that Democrats are still, on average, older than Republicans in the House. Let's see what happens in the future!"
   ]
  }
 ],
 "metadata": {
  "kernelspec": {
   "display_name": "Python 3 (ipykernel)",
   "language": "python",
   "name": "python3"
  },
  "language_info": {
   "codemirror_mode": {
    "name": "ipython",
    "version": 3
   },
   "file_extension": ".py",
   "mimetype": "text/x-python",
   "name": "python",
   "nbconvert_exporter": "python",
   "pygments_lexer": "ipython3",
   "version": "3.9.5"
  }
 },
 "nbformat": 4,
 "nbformat_minor": 2
}
